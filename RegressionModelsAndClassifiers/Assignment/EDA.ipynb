{
 "cells": [
  {
   "cell_type": "code",
   "execution_count": 1,
   "id": "ccb6fef5",
   "metadata": {},
   "outputs": [],
   "source": [
    "class solution:\n",
    "    def Exploratory_data_analysis(self,dataFrame):\n",
    "\n",
    "        print(\"Number of Rows\", len(dataFrame))\n",
    "\n",
    "        print(\"Number of Columns\", len(dataFrame.columns))\n",
    "\n",
    "        dataFrame.describe()\n",
    "        #This gives the basic details about the dataset the count,the maximum value, min value, mean value etc of each column.\n",
    "\n",
    "        #Handling duplicate values\n",
    "        print(f\"The given dataset has {dataFrame.duplicated().sum()} duplicate values\")\n",
    "\n",
    "        if(dataFrame.duplicated().sum() > 0):\n",
    "            #Using drop_duplicates we can remove these values so that our model will be more accurate.\n",
    "            dataFrame.drop_duplicates(inplace=True)\n",
    "            print(f\"Duplicate: {dataFrame.duplicated().sum()}\")\n",
    "\n",
    "        #Handling the missing values\n",
    "        dataFrame.isnull().sum()\n",
    "        return dataFrame"
   ]
  }
 ],
 "metadata": {
  "kernelspec": {
   "display_name": "Python 3 (ipykernel)",
   "language": "python",
   "name": "python3"
  },
  "language_info": {
   "codemirror_mode": {
    "name": "ipython",
    "version": 3
   },
   "file_extension": ".py",
   "mimetype": "text/x-python",
   "name": "python",
   "nbconvert_exporter": "python",
   "pygments_lexer": "ipython3",
   "version": "3.9.12"
  }
 },
 "nbformat": 4,
 "nbformat_minor": 5
}
